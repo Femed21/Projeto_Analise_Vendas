{
 "cells": [
  {
   "cell_type": "code",
   "execution_count": 4,
   "id": "cbcbd408",
   "metadata": {},
   "outputs": [
    {
     "data": {
      "text/html": [
       "<div>\n",
       "<style scoped>\n",
       "    .dataframe tbody tr th:only-of-type {\n",
       "        vertical-align: middle;\n",
       "    }\n",
       "\n",
       "    .dataframe tbody tr th {\n",
       "        vertical-align: top;\n",
       "    }\n",
       "\n",
       "    .dataframe thead th {\n",
       "        text-align: right;\n",
       "    }\n",
       "</style>\n",
       "<table border=\"1\" class=\"dataframe\">\n",
       "  <thead>\n",
       "    <tr style=\"text-align: right;\">\n",
       "      <th></th>\n",
       "      <th>data_venda</th>\n",
       "      <th>produto</th>\n",
       "      <th>categoria</th>\n",
       "      <th>preco</th>\n",
       "      <th>quantidade</th>\n",
       "      <th>unidade</th>\n",
       "      <th>vendedor</th>\n",
       "    </tr>\n",
       "  </thead>\n",
       "  <tbody>\n",
       "    <tr>\n",
       "      <th>0</th>\n",
       "      <td>2024-01-22</td>\n",
       "      <td>Notebook</td>\n",
       "      <td>Eletronicos</td>\n",
       "      <td>4598.00</td>\n",
       "      <td>3</td>\n",
       "      <td>Shopping West-Plaza</td>\n",
       "      <td>Fernanda</td>\n",
       "    </tr>\n",
       "    <tr>\n",
       "      <th>1</th>\n",
       "      <td>2024-02-15</td>\n",
       "      <td>Camiseta</td>\n",
       "      <td>Roupas</td>\n",
       "      <td>49.99</td>\n",
       "      <td>10</td>\n",
       "      <td>Shopping West-Plaza</td>\n",
       "      <td>Fernanda</td>\n",
       "    </tr>\n",
       "    <tr>\n",
       "      <th>2</th>\n",
       "      <td>2024-12-17</td>\n",
       "      <td>Celular</td>\n",
       "      <td>Eletronicos</td>\n",
       "      <td>6699.99</td>\n",
       "      <td>7</td>\n",
       "      <td>Shopping West-Plaza</td>\n",
       "      <td>Pedro</td>\n",
       "    </tr>\n",
       "    <tr>\n",
       "      <th>3</th>\n",
       "      <td>2024-10-15</td>\n",
       "      <td>Cafeteira</td>\n",
       "      <td>Eletronicos</td>\n",
       "      <td>200.00</td>\n",
       "      <td>7</td>\n",
       "      <td>Jundiai</td>\n",
       "      <td>Mariana</td>\n",
       "    </tr>\n",
       "    <tr>\n",
       "      <th>4</th>\n",
       "      <td>2024-10-11</td>\n",
       "      <td>Camiseta</td>\n",
       "      <td>Roupas</td>\n",
       "      <td>49.99</td>\n",
       "      <td>4</td>\n",
       "      <td>Contagem</td>\n",
       "      <td>Fernanda</td>\n",
       "    </tr>\n",
       "  </tbody>\n",
       "</table>\n",
       "</div>"
      ],
      "text/plain": [
       "   data_venda    produto    categoria    preco  quantidade  \\\n",
       "0  2024-01-22   Notebook  Eletronicos  4598.00           3   \n",
       "1  2024-02-15   Camiseta       Roupas    49.99          10   \n",
       "2  2024-12-17    Celular  Eletronicos  6699.99           7   \n",
       "3  2024-10-15  Cafeteira  Eletronicos   200.00           7   \n",
       "4  2024-10-11   Camiseta       Roupas    49.99           4   \n",
       "\n",
       "               unidade  vendedor  \n",
       "0  Shopping West-Plaza  Fernanda  \n",
       "1  Shopping West-Plaza  Fernanda  \n",
       "2  Shopping West-Plaza     Pedro  \n",
       "3              Jundiai   Mariana  \n",
       "4             Contagem  Fernanda  "
      ]
     },
     "execution_count": 4,
     "metadata": {},
     "output_type": "execute_result"
    }
   ],
   "source": [
    "import pandas as pd\n",
    "\n",
    "# Carregar o dataset\n",
    "df = pd.read_csv(r\"C:\\Users\\felip\\OneDrive\\Desktop\\Estudos e Trabalhos\\DSP - Data Science Project\\Nível 1\\Projeto 1 - Ciência de Dados\\data\\raw\\vendas_projeto.csv\")\n",
    "\n",
    "# Exibir as primeiras linhas\n",
    "df.head()"
   ]
  },
  {
   "cell_type": "code",
   "execution_count": 5,
   "id": "94ef6723",
   "metadata": {},
   "outputs": [
    {
     "name": "stdout",
     "output_type": "stream",
     "text": [
      "<class 'pandas.core.frame.DataFrame'>\n",
      "RangeIndex: 3000 entries, 0 to 2999\n",
      "Data columns (total 7 columns):\n",
      " #   Column      Non-Null Count  Dtype  \n",
      "---  ------      --------------  -----  \n",
      " 0   data_venda  3000 non-null   object \n",
      " 1   produto     3000 non-null   object \n",
      " 2   categoria   3000 non-null   object \n",
      " 3   preco       3000 non-null   float64\n",
      " 4   quantidade  3000 non-null   int64  \n",
      " 5   unidade     3000 non-null   object \n",
      " 6   vendedor    3000 non-null   object \n",
      "dtypes: float64(1), int64(1), object(5)\n",
      "memory usage: 164.2+ KB\n"
     ]
    },
    {
     "data": {
      "text/plain": [
       "6"
      ]
     },
     "execution_count": 5,
     "metadata": {},
     "output_type": "execute_result"
    }
   ],
   "source": [
    "df.info() # Tipos de dados e valores nulos\n",
    "df.describe () # Estatísticas básicas\n",
    "df.isnull().sum() # Contar valores nulos\n",
    "df.duplicated().sum() # Contar valores duplicados"
   ]
  },
  {
   "cell_type": "code",
   "execution_count": 6,
   "id": "cebd098c",
   "metadata": {},
   "outputs": [],
   "source": [
    "# Ajustar tipos de dados para data\n",
    "df['data_venda'] = pd.to_datetime(df['data_venda'])"
   ]
  },
  {
   "cell_type": "code",
   "execution_count": 10,
   "id": "5b0ecb7c",
   "metadata": {},
   "outputs": [],
   "source": [
    "df.to_csv(r\"C:\\Users\\felip\\OneDrive\\Desktop\\Estudos e Trabalhos\\DSP - Data Science Project\\Nível 1\\Projeto 1 - Ciência de Dados\\data\\processed\\dataset_limpo.csv\", index = False)"
   ]
  },
  {
   "cell_type": "code",
   "execution_count": null,
   "id": "5e04c3c7",
   "metadata": {},
   "outputs": [],
   "source": []
  }
 ],
 "metadata": {
  "kernelspec": {
   "display_name": "Python 3 (ipykernel)",
   "language": "python",
   "name": "python3"
  },
  "language_info": {
   "codemirror_mode": {
    "name": "ipython",
    "version": 3
   },
   "file_extension": ".py",
   "mimetype": "text/x-python",
   "name": "python",
   "nbconvert_exporter": "python",
   "pygments_lexer": "ipython3",
   "version": "3.9.13"
  }
 },
 "nbformat": 4,
 "nbformat_minor": 5
}
