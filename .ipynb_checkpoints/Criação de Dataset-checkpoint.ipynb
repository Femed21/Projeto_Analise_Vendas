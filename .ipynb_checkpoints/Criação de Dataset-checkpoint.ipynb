{
 "cells": [
  {
   "cell_type": "code",
   "execution_count": 10,
   "id": "fd2632bd",
   "metadata": {},
   "outputs": [
    {
     "name": "stdout",
     "output_type": "stream",
     "text": [
      "Dataset criado e salvo com sucesso!\n"
     ]
    }
   ],
   "source": [
    "# Criação de dataset utilizando Python\n",
    "import pandas as pd\n",
    "import random\n",
    "from datetime import datetime, timedelta\n",
    "\n",
    "# Configurações dos dados\n",
    "\n",
    "num_linhas = 3000 # Nº de registros\n",
    "produtos = [\n",
    "    {\"produto\": \"Camiseta\", \"categoria\": \"Roupas\", \"preco\": 49.99},\n",
    "    {\"produto\": \"Notebook\", \"categoria\": \"Eletronicos\", \"preco\": 4598.00},\n",
    "    {\"produto\": \"Cafeteira\", \"categoria\": \"Eletronicos\", \"preco\": 200.00},\n",
    "    {\"produto\": \"Tenis\", \"categoria\": \"Roupas\", \"preco\": 149.99},\n",
    "    {\"produto\": \"Livro\", \"categoria\": \"Educacao\", \"preco\": 39.99},\n",
    "    {\"produto\": \"Umidificador\", \"categoria\": \"Saude, Bem Estar\", \"preco\": 189.99},\n",
    "    {\"produto\": \"Celular\", \"categoria\": \"Eletronicos\", \"preco\": 6699.99},\n",
    "    {\"produto\": \"Fone de ouvido JBL\", \"categoria\": \"Eletronicos\", \"preco\": 299.99},\n",
    "]\n",
    "\n",
    "Unidades = [\"Jundiai\", \"Contagem\", \"Shopping West-Plaza\", \"Sao Jose dos Pinhais\"]\n",
    "Vendedores = [\"Ana\", \"Carlos\", \"Fernanda\", \"Pedro\", \"Mariana\"]\n",
    "\n",
    "# Função para gerar uma data aleatória\n",
    "def gerar_data_inicio_fim(inicio, fim):\n",
    "    dias = (fim - inicio).days\n",
    "    return inicio + timedelta(days=random.randint(0, dias))\n",
    "\n",
    "# Gerar o dataset\n",
    "dados = []\n",
    "for _ in range(num_linhas):\n",
    "    produto = random.choice(produtos)\n",
    "    dados.append({\n",
    "        \"data_venda\": gerar_data_inicio_fim(datetime(2024, 1, 1), datetime(2024, 12, 31)),\n",
    "        \"produto\": produto[\"produto\"],\n",
    "        \"categoria\": produto[\"categoria\"],\n",
    "        \"preco\": produto[\"preco\"],\n",
    "        \"quantidade\": random.randint(1, 10),\n",
    "        \"unidade\": random.choice(Unidades),\n",
    "        \"vendedor\": random.choice(Vendedores),\n",
    "        \n",
    "    })\n",
    "    \n",
    "# Criando o dataframe\n",
    "df_dados = pd.DataFrame(dados)\n",
    "\n",
    "# Salvando em CSV\n",
    "df_dados.to_csv(\"vendas_projeto.csv\", index=False, encoding=\"utf-8\")\n",
    "print(\"Dataset criado e salvo com sucesso!\")"
   ]
  },
  {
   "cell_type": "code",
   "execution_count": 12,
   "id": "040077f7",
   "metadata": {},
   "outputs": [
    {
     "data": {
      "text/html": [
       "<div>\n",
       "<style scoped>\n",
       "    .dataframe tbody tr th:only-of-type {\n",
       "        vertical-align: middle;\n",
       "    }\n",
       "\n",
       "    .dataframe tbody tr th {\n",
       "        vertical-align: top;\n",
       "    }\n",
       "\n",
       "    .dataframe thead th {\n",
       "        text-align: right;\n",
       "    }\n",
       "</style>\n",
       "<table border=\"1\" class=\"dataframe\">\n",
       "  <thead>\n",
       "    <tr style=\"text-align: right;\">\n",
       "      <th></th>\n",
       "      <th>data_venda</th>\n",
       "      <th>produto</th>\n",
       "      <th>categoria</th>\n",
       "      <th>preco</th>\n",
       "      <th>quantidade</th>\n",
       "      <th>unidade</th>\n",
       "      <th>vendedor</th>\n",
       "    </tr>\n",
       "  </thead>\n",
       "  <tbody>\n",
       "    <tr>\n",
       "      <th>0</th>\n",
       "      <td>2024-01-22</td>\n",
       "      <td>Notebook</td>\n",
       "      <td>Eletronicos</td>\n",
       "      <td>4598.00</td>\n",
       "      <td>3</td>\n",
       "      <td>Shopping West-Plaza</td>\n",
       "      <td>Fernanda</td>\n",
       "    </tr>\n",
       "    <tr>\n",
       "      <th>1</th>\n",
       "      <td>2024-02-15</td>\n",
       "      <td>Camiseta</td>\n",
       "      <td>Roupas</td>\n",
       "      <td>49.99</td>\n",
       "      <td>10</td>\n",
       "      <td>Shopping West-Plaza</td>\n",
       "      <td>Fernanda</td>\n",
       "    </tr>\n",
       "    <tr>\n",
       "      <th>2</th>\n",
       "      <td>2024-12-17</td>\n",
       "      <td>Celular</td>\n",
       "      <td>Eletronicos</td>\n",
       "      <td>6699.99</td>\n",
       "      <td>7</td>\n",
       "      <td>Shopping West-Plaza</td>\n",
       "      <td>Pedro</td>\n",
       "    </tr>\n",
       "    <tr>\n",
       "      <th>3</th>\n",
       "      <td>2024-10-15</td>\n",
       "      <td>Cafeteira</td>\n",
       "      <td>Eletronicos</td>\n",
       "      <td>200.00</td>\n",
       "      <td>7</td>\n",
       "      <td>Jundiai</td>\n",
       "      <td>Mariana</td>\n",
       "    </tr>\n",
       "    <tr>\n",
       "      <th>4</th>\n",
       "      <td>2024-10-11</td>\n",
       "      <td>Camiseta</td>\n",
       "      <td>Roupas</td>\n",
       "      <td>49.99</td>\n",
       "      <td>4</td>\n",
       "      <td>Contagem</td>\n",
       "      <td>Fernanda</td>\n",
       "    </tr>\n",
       "  </tbody>\n",
       "</table>\n",
       "</div>"
      ],
      "text/plain": [
       "  data_venda    produto    categoria    preco  quantidade  \\\n",
       "0 2024-01-22   Notebook  Eletronicos  4598.00           3   \n",
       "1 2024-02-15   Camiseta       Roupas    49.99          10   \n",
       "2 2024-12-17    Celular  Eletronicos  6699.99           7   \n",
       "3 2024-10-15  Cafeteira  Eletronicos   200.00           7   \n",
       "4 2024-10-11   Camiseta       Roupas    49.99           4   \n",
       "\n",
       "               unidade  vendedor  \n",
       "0  Shopping West-Plaza  Fernanda  \n",
       "1  Shopping West-Plaza  Fernanda  \n",
       "2  Shopping West-Plaza     Pedro  \n",
       "3              Jundiai   Mariana  \n",
       "4             Contagem  Fernanda  "
      ]
     },
     "execution_count": 12,
     "metadata": {},
     "output_type": "execute_result"
    }
   ],
   "source": [
    "df_dados.head()"
   ]
  },
  {
   "cell_type": "code",
   "execution_count": 17,
   "id": "acc2b897",
   "metadata": {},
   "outputs": [
    {
     "data": {
      "image/png": "[encoded data removed]",
      "text/plain": [
       "<Figure size 640x480 with 1 Axes>"
      ]
     },
     "metadata": {},
     "output_type": "display_data"
    }
   ],
   "source": [
    "import matplotlib.pyplot as plt\n",
    "\n",
    "# Exemplo: Vendas por Unidade\n",
    "df_dados[\"unidade\"].value_counts().plot(kind=\"bar\", title=\"Vendas por Unidade\", color = \"green\")\n",
    "plt.show()"
   ]
  },
  {
   "cell_type": "code",
   "execution_count": null,
   "id": "076fee0f",
   "metadata": {},
   "outputs": [],
   "source": []
  }
 ],
 "metadata": {
  "kernelspec": {
   "display_name": "Python 3 (ipykernel)",
   "language": "python",
   "name": "python3"
  },
  "language_info": {
   "codemirror_mode": {
    "name": "ipython",
    "version": 3
   },
   "file_extension": ".py",
   "mimetype": "text/x-python",
   "name": "python",
   "nbconvert_exporter": "python",
   "pygments_lexer": "ipython3",
   "version": "3.9.13"
  }
 },
 "nbformat": 4,
 "nbformat_minor": 5
}
