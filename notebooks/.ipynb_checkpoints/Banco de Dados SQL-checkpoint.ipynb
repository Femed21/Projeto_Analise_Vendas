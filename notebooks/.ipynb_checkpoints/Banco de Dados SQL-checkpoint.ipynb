{
 "cells": [
  {
   "cell_type": "code",
   "execution_count": 2,
   "id": "646e40f1",
   "metadata": {},
   "outputs": [],
   "source": [
    "# Se ainda não tiver o SQLite instalado, instale a biblioteca:\n",
    "\n",
    "# !pip install sqlite3 pandas sqlalchemy"
   ]
  },
  {
   "cell_type": "code",
   "execution_count": 3,
   "id": "aeb13bb0",
   "metadata": {},
   "outputs": [],
   "source": [
    "import sqlite3\n",
    "import pandas as pd\n",
    "from sqlalchemy import create_engine"
   ]
  },
  {
   "cell_type": "code",
   "execution_count": 4,
   "id": "52afcda5",
   "metadata": {},
   "outputs": [
    {
     "data": {
      "text/html": [
       "<div>\n",
       "<style scoped>\n",
       "    .dataframe tbody tr th:only-of-type {\n",
       "        vertical-align: middle;\n",
       "    }\n",
       "\n",
       "    .dataframe tbody tr th {\n",
       "        vertical-align: top;\n",
       "    }\n",
       "\n",
       "    .dataframe thead th {\n",
       "        text-align: right;\n",
       "    }\n",
       "</style>\n",
       "<table border=\"1\" class=\"dataframe\">\n",
       "  <thead>\n",
       "    <tr style=\"text-align: right;\">\n",
       "      <th></th>\n",
       "      <th>data_venda</th>\n",
       "      <th>produto</th>\n",
       "      <th>categoria</th>\n",
       "      <th>preco</th>\n",
       "      <th>quantidade</th>\n",
       "      <th>unidade</th>\n",
       "      <th>vendedor</th>\n",
       "    </tr>\n",
       "  </thead>\n",
       "  <tbody>\n",
       "    <tr>\n",
       "      <th>0</th>\n",
       "      <td>2024-01-22</td>\n",
       "      <td>Notebook</td>\n",
       "      <td>Eletronicos</td>\n",
       "      <td>4598.00</td>\n",
       "      <td>3</td>\n",
       "      <td>Shopping West-Plaza</td>\n",
       "      <td>Fernanda</td>\n",
       "    </tr>\n",
       "    <tr>\n",
       "      <th>1</th>\n",
       "      <td>2024-02-15</td>\n",
       "      <td>Camiseta</td>\n",
       "      <td>Roupas</td>\n",
       "      <td>49.99</td>\n",
       "      <td>10</td>\n",
       "      <td>Shopping West-Plaza</td>\n",
       "      <td>Fernanda</td>\n",
       "    </tr>\n",
       "    <tr>\n",
       "      <th>2</th>\n",
       "      <td>2024-12-17</td>\n",
       "      <td>Celular</td>\n",
       "      <td>Eletronicos</td>\n",
       "      <td>6699.99</td>\n",
       "      <td>7</td>\n",
       "      <td>Shopping West-Plaza</td>\n",
       "      <td>Pedro</td>\n",
       "    </tr>\n",
       "    <tr>\n",
       "      <th>3</th>\n",
       "      <td>2024-10-15</td>\n",
       "      <td>Cafeteira</td>\n",
       "      <td>Eletronicos</td>\n",
       "      <td>200.00</td>\n",
       "      <td>7</td>\n",
       "      <td>Jundiai</td>\n",
       "      <td>Mariana</td>\n",
       "    </tr>\n",
       "    <tr>\n",
       "      <th>4</th>\n",
       "      <td>2024-10-11</td>\n",
       "      <td>Camiseta</td>\n",
       "      <td>Roupas</td>\n",
       "      <td>49.99</td>\n",
       "      <td>4</td>\n",
       "      <td>Contagem</td>\n",
       "      <td>Fernanda</td>\n",
       "    </tr>\n",
       "  </tbody>\n",
       "</table>\n",
       "</div>"
      ],
      "text/plain": [
       "   data_venda    produto    categoria    preco  quantidade  \\\n",
       "0  2024-01-22   Notebook  Eletronicos  4598.00           3   \n",
       "1  2024-02-15   Camiseta       Roupas    49.99          10   \n",
       "2  2024-12-17    Celular  Eletronicos  6699.99           7   \n",
       "3  2024-10-15  Cafeteira  Eletronicos   200.00           7   \n",
       "4  2024-10-11   Camiseta       Roupas    49.99           4   \n",
       "\n",
       "               unidade  vendedor  \n",
       "0  Shopping West-Plaza  Fernanda  \n",
       "1  Shopping West-Plaza  Fernanda  \n",
       "2  Shopping West-Plaza     Pedro  \n",
       "3              Jundiai   Mariana  \n",
       "4             Contagem  Fernanda  "
      ]
     },
     "execution_count": 4,
     "metadata": {},
     "output_type": "execute_result"
    }
   ],
   "source": [
    "# Carregando dataframe para este notebook:\n",
    "\n",
    "df = pd.read_csv(r\"C:\\Users\\felip\\OneDrive\\Desktop\\Estudos e Trabalhos\\DSP - Data Science Project\\Nível 1\\Projeto 1 - Ciência de Dados\\data\\processed\\vendas.csv\")\n",
    "df.head()"
   ]
  },
  {
   "cell_type": "code",
   "execution_count": 5,
   "id": "2a5cba24",
   "metadata": {},
   "outputs": [],
   "source": [
    "# Criando conexão com o SQLite\n",
    "\n",
    "# Conectar o banco de dados\n",
    "conn = sqlite3.connect(\"vendas.db\")\n",
    "cursor = conn.cursor()"
   ]
  },
  {
   "cell_type": "code",
   "execution_count": 6,
   "id": "c788304d",
   "metadata": {},
   "outputs": [],
   "source": [
    "# Criar tabela \n",
    "\n",
    "cursor.execute(\"\"\"\n",
    "    CREATE TABLE IF NOT EXISTS vendas (\n",
    "        id INTEGER PRIMARY KEY AUTOINCREMENT,\n",
    "        produto TEXT,\n",
    "        categoria TEXT,\n",
    "        quantidade INTEGER,\n",
    "        preco REAL,\n",
    "        data_venda DATE,\n",
    "        unidade TEXT,\n",
    "        vendedor TEXT\n",
    "        \n",
    "    )\n",
    "\"\"\")\n",
    "conn.commit()  # Salva as mudanças\n"
   ]
  },
  {
   "cell_type": "code",
   "execution_count": 7,
   "id": "a5c0f5ef",
   "metadata": {},
   "outputs": [
    {
     "name": "stdout",
     "output_type": "stream",
     "text": [
      "✅ Dados inseridos com sucesso!\n"
     ]
    }
   ],
   "source": [
    "# Inserir os dados do dataframe no SQL\n",
    "\n",
    "# Recriar o engine para garantir a conexão com SQLAlchemy\n",
    "engine = create_engine(\"sqlite:///vendas.db\")\n",
    "\n",
    "# Inserir os dados no banco\n",
    "df.to_sql(\"vendas\", con=engine, if_exists=\"replace\", index=False)\n",
    "\n",
    "print(\"✅ Dados inseridos com sucesso!\")"
   ]
  },
  {
   "cell_type": "code",
   "execution_count": 8,
   "id": "6290612f",
   "metadata": {},
   "outputs": [
    {
     "name": "stdout",
     "output_type": "stream",
     "text": [
      "   data_venda    produto    categoria    preco  quantidade  \\\n",
      "0  2024-01-22   Notebook  Eletronicos  4598.00           3   \n",
      "1  2024-02-15   Camiseta       Roupas    49.99          10   \n",
      "2  2024-12-17    Celular  Eletronicos  6699.99           7   \n",
      "3  2024-10-15  Cafeteira  Eletronicos   200.00           7   \n",
      "4  2024-10-11   Camiseta       Roupas    49.99           4   \n",
      "\n",
      "               unidade  vendedor  \n",
      "0  Shopping West-Plaza  Fernanda  \n",
      "1  Shopping West-Plaza  Fernanda  \n",
      "2  Shopping West-Plaza     Pedro  \n",
      "3              Jundiai   Mariana  \n",
      "4             Contagem  Fernanda  \n"
     ]
    }
   ],
   "source": [
    "# Realização de consulta\n",
    "\n",
    "df_consulta = pd.read_sql(\"SELECT * FROM vendas LIMIT 5\", con=engine)\n",
    "print(df_consulta)"
   ]
  },
  {
   "cell_type": "code",
   "execution_count": 9,
   "id": "106d442f",
   "metadata": {},
   "outputs": [
    {
     "name": "stdout",
     "output_type": "stream",
     "text": [
      "(0, 'data_venda', 'TEXT', 0, None, 0)\n",
      "(1, 'produto', 'TEXT', 0, None, 0)\n",
      "(2, 'categoria', 'TEXT', 0, None, 0)\n",
      "(3, 'preco', 'FLOAT', 0, None, 0)\n",
      "(4, 'quantidade', 'BIGINT', 0, None, 0)\n",
      "(5, 'unidade', 'TEXT', 0, None, 0)\n",
      "(6, 'vendedor', 'TEXT', 0, None, 0)\n"
     ]
    }
   ],
   "source": [
    "# Explorar a Estrutura da Tabela\n",
    "\n",
    "cursor.execute(\"PRAGMA table_info(vendas)\")\n",
    "tabela_info = cursor.fetchall()\n",
    "for coluna in tabela_info:\n",
    "    print(coluna) # Retorna informações sobre as colunas da tabela"
   ]
  },
  {
   "cell_type": "code",
   "execution_count": 10,
   "id": "2be2139c",
   "metadata": {},
   "outputs": [
    {
     "name": "stdout",
     "output_type": "stream",
     "text": [
      "   data_venda    produto    categoria    preco  quantidade  \\\n",
      "0  2024-01-22   Notebook  Eletronicos  4598.00           3   \n",
      "1  2024-02-15   Camiseta       Roupas    49.99          10   \n",
      "2  2024-12-17    Celular  Eletronicos  6699.99           7   \n",
      "3  2024-10-15  Cafeteira  Eletronicos   200.00           7   \n",
      "4  2024-10-11   Camiseta       Roupas    49.99           4   \n",
      "\n",
      "               unidade  vendedor  \n",
      "0  Shopping West-Plaza  Fernanda  \n",
      "1  Shopping West-Plaza  Fernanda  \n",
      "2  Shopping West-Plaza     Pedro  \n",
      "3              Jundiai   Mariana  \n",
      "4             Contagem  Fernanda  \n"
     ]
    }
   ],
   "source": [
    "# Vizualizar algumas linhas dos dados\n",
    "\n",
    "df_consulta = pd.read_sql(\"SELECT * FROM vendas LIMIT 5\", conn)\n",
    "print(df_consulta)"
   ]
  },
  {
   "cell_type": "code",
   "execution_count": 11,
   "id": "cf013423",
   "metadata": {},
   "outputs": [
    {
     "name": "stdout",
     "output_type": "stream",
     "text": [
      "          categoria  total_vendas\n",
      "0       Eletronicos          8564\n",
      "1            Roupas          4036\n",
      "2          Educacao          1949\n",
      "3  Saude, Bem Estar          1934\n"
     ]
    }
   ],
   "source": [
    "# Realização de consultas explorativas\n",
    "\n",
    "# Total de vendas por categoria de produto:\n",
    "df_categoria = pd.read_sql(\"\"\"\n",
    "    SELECT categoria, SUM(quantidade) AS total_vendas\n",
    "    FROM vendas\n",
    "    GROUP BY categoria\n",
    "    ORDER BY total_vendas DESC\n",
    "\"\"\", conn)\n",
    "print(df_categoria)"
   ]
  },
  {
   "cell_type": "code",
   "execution_count": 12,
   "id": "fd530c11",
   "metadata": {},
   "outputs": [
    {
     "name": "stdout",
     "output_type": "stream",
     "text": [
      "              produto  total_vendido\n",
      "0           Cafeteira           2198\n",
      "1            Notebook           2158\n",
      "2  Fone de ouvido JBL           2134\n",
      "3             Celular           2074\n",
      "4               Tenis           2054\n",
      "5            Camiseta           1982\n",
      "6               Livro           1949\n",
      "7        Umidificador           1934\n"
     ]
    }
   ],
   "source": [
    "# Realização de consultas explorativas\n",
    "\n",
    "# Total de vendas por produtos mais vendidos:\n",
    "df_top_produtos = pd.read_sql(\"\"\"\n",
    "    SELECT produto, SUM(quantidade) AS total_vendido\n",
    "    FROM vendas\n",
    "    GROUP BY produto\n",
    "    ORDER BY total_vendido DESC\n",
    "    LIMIT 10\n",
    "\"\"\", conn)\n",
    "print(df_top_produtos)"
   ]
  },
  {
   "cell_type": "code",
   "execution_count": 13,
   "id": "d77c375d",
   "metadata": {},
   "outputs": [
    {
     "name": "stdout",
     "output_type": "stream",
     "text": [
      "              produto  receita_total\n",
      "0             Celular    13895779.26\n",
      "1            Notebook     9922484.00\n",
      "2  Fone de ouvido JBL      640178.66\n",
      "3           Cafeteira      439600.00\n",
      "4        Umidificador      367440.66\n",
      "5               Tenis      308079.46\n",
      "6            Camiseta       99080.18\n",
      "7               Livro       77940.51\n"
     ]
    }
   ],
   "source": [
    "# Realização de consultas explorativas\n",
    "\n",
    "# Receita total por produto:\n",
    "df_receita = pd.read_sql(\"\"\"\n",
    "    SELECT produto, SUM(quantidade * preco) AS receita_total\n",
    "    FROM vendas\n",
    "    GROUP BY produto\n",
    "    ORDER BY receita_total DESC\n",
    "\"\"\", conn)\n",
    "print(df_receita)"
   ]
  },
  {
   "cell_type": "code",
   "execution_count": 14,
   "id": "d5af4f4c",
   "metadata": {},
   "outputs": [
    {
     "name": "stdout",
     "output_type": "stream",
     "text": [
      "   vendedor  total_vendido\n",
      "0    Carlos           3526\n",
      "1       Ana           3396\n",
      "2     Pedro           3312\n",
      "3   Mariana           3154\n",
      "4  Fernanda           3095\n"
     ]
    }
   ],
   "source": [
    "# Realização de consultas explorativas\n",
    "\n",
    "# Quantidade total de vendas por vendedor\n",
    "df_vendedor = pd.read_sql(\"\"\"\n",
    "    SELECT vendedor, SUM(quantidade) AS total_vendido\n",
    "    FROM vendas\n",
    "    GROUP BY vendedor\n",
    "    ORDER BY total_vendido DESC\n",
    "\"\"\", conn)\n",
    "print(df_vendedor)"
   ]
  },
  {
   "cell_type": "code",
   "execution_count": 15,
   "id": "e11e3228",
   "metadata": {},
   "outputs": [
    {
     "name": "stdout",
     "output_type": "stream",
     "text": [
      "   vendedor  total_vendido  receita_total\n",
      "0    Carlos           3526     5819455.04\n",
      "1       Ana           3396     5176964.88\n",
      "2     Pedro           3312     5082276.24\n",
      "3   Mariana           3154     4873418.17\n",
      "4  Fernanda           3095     4798468.40\n"
     ]
    }
   ],
   "source": [
    "# Realização de consultas explorativas\n",
    "\n",
    "# Receita total gerada por cada vendedor\n",
    "df_receita = pd.read_sql(\"\"\"\n",
    "    SELECT vendedor, \n",
    "        SUM(quantidade) AS total_vendido,\n",
    "        SUM(quantidade * preco) AS receita_total\n",
    "    FROM vendas\n",
    "    GROUP BY vendedor\n",
    "    ORDER BY total_vendido DESC\n",
    "\"\"\", conn)\n",
    "print(df_receita)"
   ]
  },
  {
   "cell_type": "code",
   "execution_count": 16,
   "id": "ce382e66",
   "metadata": {},
   "outputs": [
    {
     "name": "stdout",
     "output_type": "stream",
     "text": [
      "                unidade  total_vendido\n",
      "0  Sao Jose dos Pinhais           4338\n",
      "1   Shopping West-Plaza           4101\n",
      "2               Jundiai           4085\n",
      "3              Contagem           3959\n"
     ]
    }
   ],
   "source": [
    "# Realização de consultas explorativas\n",
    "\n",
    "# Quantidade total de vendas por unidade\n",
    "df_unidade = pd.read_sql(\"\"\"\n",
    "    SELECT unidade, SUM(quantidade) AS total_vendido\n",
    "    FROM vendas\n",
    "    GROUP BY unidade\n",
    "    ORDER BY total_vendido DESC\n",
    "\"\"\", conn)\n",
    "print(df_unidade)"
   ]
  },
  {
   "cell_type": "code",
   "execution_count": 17,
   "id": "91e61610",
   "metadata": {},
   "outputs": [
    {
     "name": "stdout",
     "output_type": "stream",
     "text": [
      "                unidade  total_vendido  receita_total\n",
      "0  Sao Jose dos Pinhais           4338     7220411.16\n",
      "1   Shopping West-Plaza           4101     5951579.10\n",
      "2               Jundiai           4085     6579809.65\n",
      "3              Contagem           3959     5998782.82\n"
     ]
    }
   ],
   "source": [
    "# Realização de consultas explorativas\n",
    "\n",
    "# Receita total gerada por cada vendedor\n",
    "df_runidade = pd.read_sql(\"\"\"\n",
    "    SELECT unidade, \n",
    "        SUM(quantidade) AS total_vendido,\n",
    "        SUM(quantidade * preco) AS receita_total\n",
    "    FROM vendas\n",
    "    GROUP BY unidade\n",
    "    ORDER BY total_vendido DESC\n",
    "\"\"\", conn)\n",
    "print(df_runidade)"
   ]
  },
  {
   "cell_type": "code",
   "execution_count": null,
   "id": "acefa64f",
   "metadata": {},
   "outputs": [],
   "source": []
  }
 ],
 "metadata": {
  "kernelspec": {
   "display_name": "Python 3 (ipykernel)",
   "language": "python",
   "name": "python3"
  },
  "language_info": {
   "codemirror_mode": {
    "name": "ipython",
    "version": 3
   },
   "file_extension": ".py",
   "mimetype": "text/x-python",
   "name": "python",
   "nbconvert_exporter": "python",
   "pygments_lexer": "ipython3",
   "version": "3.9.13"
  }
 },
 "nbformat": 4,
 "nbformat_minor": 5
}
